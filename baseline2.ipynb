{
 "cells": [
  {
   "cell_type": "code",
   "execution_count": 61,
   "metadata": {},
   "outputs": [],
   "source": [
    "import pandas as pd\n",
    "from torch.utils.data import Dataset\n",
    "from torchvision import transforms\n",
    "from PIL import Image\n",
    "import os\n",
    "import torch\n",
    "from sklearn.model_selection import train_test_split\n",
    "from torch.utils.data import DataLoader\n",
    "from torchvision import transforms\n",
    "import torch.nn as nn\n",
    "from torchvision import models\n",
    "from torch.utils.data import DataLoader\n",
    "from torchvision import transforms\n",
    "import torch.optim as optim\n"
   ]
  },
  {
   "cell_type": "code",
   "execution_count": 97,
   "metadata": {},
   "outputs": [],
   "source": [
    "full_label_df = pd.read_csv('selected_labels.csv') \n",
    "image_names = full_label_df['Image Number'].values # if you need it\n",
    "# Now select only the label columns\n",
    "label_df = full_label_df[['Start/Restar the game', 'The joy of the players', 'yellow card',\n",
    "                          'Red Card', 'Stadium View', 'Penalty Image',\n",
    "                          'Free Kick', 'Generic Moment']]"
   ]
  },
  {
   "cell_type": "code",
   "execution_count": 98,
   "metadata": {},
   "outputs": [],
   "source": [
    "# Splits (based on the index of the full dataframe)\n",
    "train_idx, test_idx = train_test_split(full_label_df.index, test_size=0.2, random_state=42)\n",
    "train_idx, val_idx = train_test_split(train_idx, test_size=0.1, random_state=42)\n",
    "\n",
    "train_df = label_df.loc[train_idx]\n",
    "val_df = label_df.loc[val_idx]\n",
    "test_df = label_df.loc[test_idx]\n",
    "\n",
    "# Corresponding image names (important!)\n",
    "train_img_names = full_label_df.loc[train_idx, 'Image Number'].values\n",
    "val_img_names = full_label_df.loc[val_idx, 'Image Number'].values\n",
    "test_img_names = full_label_df.loc[test_idx, 'Image Number'].values"
   ]
  },
  {
   "cell_type": "code",
   "execution_count": 100,
   "metadata": {},
   "outputs": [],
   "source": [
    "# 3. Dataset and DataLoader\n",
    "class FootballDataset(Dataset):\n",
    "    def __init__(self, image_dir, label_df, image_names, transform=None):\n",
    "        self.image_dir = image_dir\n",
    "        self.label_df = label_df\n",
    "        self.transform = transform\n",
    "        self.image_names = image_names\n",
    "        self.labels = label_df.values.astype('float32')\n",
    "\n",
    "    def __len__(self):\n",
    "        return len(self.image_names)\n",
    "\n",
    "    def __getitem__(self, idx):\n",
    "        img_name = str(self.image_names[idx]) + '.jpg'\n",
    "        img_path = os.path.join(self.image_dir, img_name)\n",
    "        image = Image.open(img_path).convert('RGB')\n",
    "        if self.transform:\n",
    "            image = self.transform(image)\n",
    "        label = torch.tensor(self.labels[idx])\n",
    "        return image, label"
   ]
  },
  {
   "cell_type": "code",
   "execution_count": 101,
   "metadata": {},
   "outputs": [],
   "source": [
    "# 5. Transforms and Loaders\n",
    "transform = transforms.Compose([\n",
    "    transforms.Resize((224, 224)),\n",
    "    transforms.ToTensor(),\n",
    "    transforms.Normalize([0.485, 0.456, 0.406],  # ImageNet means\n",
    "                         [0.229, 0.224, 0.225])  # ImageNet stds\n",
    "])\n",
    "\n",
    "train_ds = FootballDataset('data/selected_images', train_df, train_img_names, transform)\n",
    "val_ds = FootballDataset('data/selected_images', val_df, val_img_names, transform)\n",
    "test_ds = FootballDataset('data/selected_images', test_df, test_img_names, transform)\n",
    "\n",
    "train_loader = DataLoader(train_ds, batch_size=32, shuffle=True)\n",
    "val_loader = DataLoader(val_ds, batch_size=32)\n",
    "test_loader = DataLoader(test_ds, batch_size=32)"
   ]
  },
  {
   "cell_type": "code",
   "execution_count": 102,
   "metadata": {},
   "outputs": [
    {
     "name": "stderr",
     "output_type": "stream",
     "text": [
      "/opt/anaconda3/lib/python3.12/site-packages/torchvision/models/_utils.py:208: UserWarning: The parameter 'pretrained' is deprecated since 0.13 and may be removed in the future, please use 'weights' instead.\n",
      "  warnings.warn(\n",
      "/opt/anaconda3/lib/python3.12/site-packages/torchvision/models/_utils.py:223: UserWarning: Arguments other than a weight enum or `None` for 'weights' are deprecated since 0.13 and may be removed in the future. The current behavior is equivalent to passing `weights=VGG13_Weights.IMAGENET1K_V1`. You can also use `weights=VGG13_Weights.DEFAULT` to get the most up-to-date weights.\n",
      "  warnings.warn(msg)\n"
     ]
    }
   ],
   "source": [
    "# 6. Modify VGG13 for Multi-Label Classification\n",
    "vgg13 = models.vgg13(pretrained=True)\n",
    "\n",
    "# Freeze base layers (optional)\n",
    "for param in vgg13.features.parameters():\n",
    "    param.requires_grad = False\n",
    "\n",
    "# Modify classifier to output 8 labels\n",
    "vgg13.classifier[6] = nn.Sequential(\n",
    "    nn.Linear(4096, 8),\n",
    "    nn.Sigmoid()  # Sigmoid for multi-label classification\n",
    ")"
   ]
  },
  {
   "cell_type": "code",
   "execution_count": 103,
   "metadata": {},
   "outputs": [],
   "source": [
    "# 7. Training Loop\n",
    "\n",
    "device = torch.device(\"cuda\" if torch.cuda.is_available() else \"cpu\")\n",
    "vgg13.to(device)\n",
    "\n",
    "criterion = nn.BCELoss()\n",
    "optimizer = optim.Adam(vgg13.parameters(), lr=1e-4)\n",
    "\n",
    "def train(model, loader, optimizer, criterion):\n",
    "    model.train()\n",
    "    total_loss = 0\n",
    "    for images, labels in loader:\n",
    "        images, labels = images.to(device), labels.to(device)\n",
    "        optimizer.zero_grad()\n",
    "        outputs = model(images)\n",
    "        loss = criterion(outputs, labels)\n",
    "        loss.backward()\n",
    "        optimizer.step()\n",
    "        total_loss += loss.item()\n",
    "    return total_loss / len(loader)"
   ]
  },
  {
   "cell_type": "code",
   "execution_count": 104,
   "metadata": {},
   "outputs": [],
   "source": [
    "# 8. Evaluation\n",
    "\n",
    "def evaluate(model, loader):\n",
    "    model.eval()\n",
    "    total_loss = 0\n",
    "    with torch.no_grad():\n",
    "        for images, labels in loader:\n",
    "            images, labels = images.to(device), labels.to(device)\n",
    "            outputs = model(images)\n",
    "            loss = criterion(outputs, labels)\n",
    "            total_loss += loss.item()\n",
    "    return total_loss / len(loader)"
   ]
  },
  {
   "cell_type": "code",
   "execution_count": 105,
   "metadata": {},
   "outputs": [
    {
     "name": "stdout",
     "output_type": "stream",
     "text": [
      "Epoch 1, Train Loss: 0.1707, Val Loss: 0.1084\n",
      "Epoch 2, Train Loss: 0.0695, Val Loss: 0.0883\n"
     ]
    }
   ],
   "source": [
    "for epoch in range(10):\n",
    "    train_loss = train(vgg13, train_loader, optimizer, criterion)\n",
    "    val_loss = evaluate(vgg13, val_loader)\n",
    "    print(f\"Epoch {epoch+1}, Train Loss: {train_loss:.4f}, Val Loss: {val_loss:.4f}\")\n"
   ]
  },
  {
   "cell_type": "code",
   "execution_count": null,
   "metadata": {},
   "outputs": [],
   "source": [
    "# 10. Inference on Test Set\n",
    "\n",
    "def predict(model, loader, threshold=0.5):\n",
    "    model.eval()\n",
    "    all_preds = []\n",
    "    with torch.no_grad():\n",
    "        for images, _ in loader:\n",
    "            images = images.to(device)\n",
    "            outputs = model(images)\n",
    "            preds = (outputs > threshold).cpu()\n",
    "            all_preds.append(preds)\n",
    "    return torch.cat(all_preds, dim=0)\n"
   ]
  }
 ],
 "metadata": {
  "kernelspec": {
   "display_name": "base",
   "language": "python",
   "name": "python3"
  },
  "language_info": {
   "codemirror_mode": {
    "name": "ipython",
    "version": 3
   },
   "file_extension": ".py",
   "mimetype": "text/x-python",
   "name": "python",
   "nbconvert_exporter": "python",
   "pygments_lexer": "ipython3",
   "version": "3.12.4"
  }
 },
 "nbformat": 4,
 "nbformat_minor": 2
}
