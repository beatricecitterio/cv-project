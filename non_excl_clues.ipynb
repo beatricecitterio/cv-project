{
 "cells": [
  {
   "cell_type": "code",
   "execution_count": 1,
   "id": "88cd74f7",
   "metadata": {},
   "outputs": [],
   "source": [
    "import pandas as pd\n",
    "import matplotlib.pyplot as plt"
   ]
  },
  {
   "cell_type": "markdown",
   "id": "b148ac57",
   "metadata": {},
   "source": [
    "### Visualizing Mutually Non-Exclusive Labels"
   ]
  },
  {
   "cell_type": "code",
   "execution_count": 3,
   "id": "864ca584",
   "metadata": {},
   "outputs": [],
   "source": [
    "labels_df = pd.read_csv(\"selected_labels.csv\", index_col=0) # .set_index(keys=labels_df['img_id'], drop=True)"
   ]
  },
  {
   "cell_type": "code",
   "execution_count": 4,
   "id": "2d131684",
   "metadata": {},
   "outputs": [
    {
     "data": {
      "text/html": [
       "<div>\n",
       "<style scoped>\n",
       "    .dataframe tbody tr th:only-of-type {\n",
       "        vertical-align: middle;\n",
       "    }\n",
       "\n",
       "    .dataframe tbody tr th {\n",
       "        vertical-align: top;\n",
       "    }\n",
       "\n",
       "    .dataframe thead th {\n",
       "        text-align: right;\n",
       "    }\n",
       "</style>\n",
       "<table border=\"1\" class=\"dataframe\">\n",
       "  <thead>\n",
       "    <tr style=\"text-align: right;\">\n",
       "      <th></th>\n",
       "      <th>Gate</th>\n",
       "      <th>Start/Restar the game</th>\n",
       "      <th>The joy of the players</th>\n",
       "      <th>yellow card</th>\n",
       "      <th>Red Card</th>\n",
       "      <th>Ball</th>\n",
       "      <th>Stadium View</th>\n",
       "      <th>referee Image</th>\n",
       "      <th>Penalty Image</th>\n",
       "      <th>Free Kick</th>\n",
       "      <th>Generic Moment</th>\n",
       "    </tr>\n",
       "    <tr>\n",
       "      <th>Image Number</th>\n",
       "      <th></th>\n",
       "      <th></th>\n",
       "      <th></th>\n",
       "      <th></th>\n",
       "      <th></th>\n",
       "      <th></th>\n",
       "      <th></th>\n",
       "      <th></th>\n",
       "      <th></th>\n",
       "      <th></th>\n",
       "      <th></th>\n",
       "    </tr>\n",
       "  </thead>\n",
       "  <tbody>\n",
       "    <tr>\n",
       "      <th>1</th>\n",
       "      <td>0</td>\n",
       "      <td>0</td>\n",
       "      <td>0</td>\n",
       "      <td>0</td>\n",
       "      <td>0</td>\n",
       "      <td>0</td>\n",
       "      <td>1</td>\n",
       "      <td>0</td>\n",
       "      <td>0</td>\n",
       "      <td>0</td>\n",
       "      <td>0</td>\n",
       "    </tr>\n",
       "    <tr>\n",
       "      <th>2</th>\n",
       "      <td>0</td>\n",
       "      <td>0</td>\n",
       "      <td>0</td>\n",
       "      <td>0</td>\n",
       "      <td>0</td>\n",
       "      <td>0</td>\n",
       "      <td>1</td>\n",
       "      <td>1</td>\n",
       "      <td>0</td>\n",
       "      <td>0</td>\n",
       "      <td>0</td>\n",
       "    </tr>\n",
       "    <tr>\n",
       "      <th>94</th>\n",
       "      <td>0</td>\n",
       "      <td>0</td>\n",
       "      <td>0</td>\n",
       "      <td>1</td>\n",
       "      <td>0</td>\n",
       "      <td>1</td>\n",
       "      <td>0</td>\n",
       "      <td>1</td>\n",
       "      <td>0</td>\n",
       "      <td>0</td>\n",
       "      <td>0</td>\n",
       "    </tr>\n",
       "    <tr>\n",
       "      <th>95</th>\n",
       "      <td>0</td>\n",
       "      <td>0</td>\n",
       "      <td>0</td>\n",
       "      <td>1</td>\n",
       "      <td>0</td>\n",
       "      <td>1</td>\n",
       "      <td>0</td>\n",
       "      <td>1</td>\n",
       "      <td>0</td>\n",
       "      <td>0</td>\n",
       "      <td>0</td>\n",
       "    </tr>\n",
       "    <tr>\n",
       "      <th>96</th>\n",
       "      <td>0</td>\n",
       "      <td>0</td>\n",
       "      <td>0</td>\n",
       "      <td>1</td>\n",
       "      <td>0</td>\n",
       "      <td>1</td>\n",
       "      <td>0</td>\n",
       "      <td>1</td>\n",
       "      <td>0</td>\n",
       "      <td>0</td>\n",
       "      <td>0</td>\n",
       "    </tr>\n",
       "    <tr>\n",
       "      <th>...</th>\n",
       "      <td>...</td>\n",
       "      <td>...</td>\n",
       "      <td>...</td>\n",
       "      <td>...</td>\n",
       "      <td>...</td>\n",
       "      <td>...</td>\n",
       "      <td>...</td>\n",
       "      <td>...</td>\n",
       "      <td>...</td>\n",
       "      <td>...</td>\n",
       "      <td>...</td>\n",
       "    </tr>\n",
       "    <tr>\n",
       "      <th>88281</th>\n",
       "      <td>0</td>\n",
       "      <td>0</td>\n",
       "      <td>0</td>\n",
       "      <td>0</td>\n",
       "      <td>0</td>\n",
       "      <td>1</td>\n",
       "      <td>0</td>\n",
       "      <td>1</td>\n",
       "      <td>0</td>\n",
       "      <td>0</td>\n",
       "      <td>1</td>\n",
       "    </tr>\n",
       "    <tr>\n",
       "      <th>35162</th>\n",
       "      <td>0</td>\n",
       "      <td>0</td>\n",
       "      <td>0</td>\n",
       "      <td>0</td>\n",
       "      <td>0</td>\n",
       "      <td>1</td>\n",
       "      <td>0</td>\n",
       "      <td>1</td>\n",
       "      <td>0</td>\n",
       "      <td>0</td>\n",
       "      <td>1</td>\n",
       "    </tr>\n",
       "    <tr>\n",
       "      <th>47062</th>\n",
       "      <td>0</td>\n",
       "      <td>0</td>\n",
       "      <td>0</td>\n",
       "      <td>0</td>\n",
       "      <td>0</td>\n",
       "      <td>0</td>\n",
       "      <td>0</td>\n",
       "      <td>0</td>\n",
       "      <td>0</td>\n",
       "      <td>0</td>\n",
       "      <td>1</td>\n",
       "    </tr>\n",
       "    <tr>\n",
       "      <th>83692</th>\n",
       "      <td>0</td>\n",
       "      <td>0</td>\n",
       "      <td>0</td>\n",
       "      <td>0</td>\n",
       "      <td>0</td>\n",
       "      <td>0</td>\n",
       "      <td>0</td>\n",
       "      <td>0</td>\n",
       "      <td>0</td>\n",
       "      <td>0</td>\n",
       "      <td>1</td>\n",
       "    </tr>\n",
       "    <tr>\n",
       "      <th>87448</th>\n",
       "      <td>0</td>\n",
       "      <td>0</td>\n",
       "      <td>0</td>\n",
       "      <td>0</td>\n",
       "      <td>0</td>\n",
       "      <td>0</td>\n",
       "      <td>0</td>\n",
       "      <td>0</td>\n",
       "      <td>0</td>\n",
       "      <td>0</td>\n",
       "      <td>1</td>\n",
       "    </tr>\n",
       "  </tbody>\n",
       "</table>\n",
       "<p>10000 rows × 11 columns</p>\n",
       "</div>"
      ],
      "text/plain": [
       "              Gate  Start/Restar the game  The joy of the players  \\\n",
       "Image Number                                                        \n",
       "1                0                      0                       0   \n",
       "2                0                      0                       0   \n",
       "94               0                      0                       0   \n",
       "95               0                      0                       0   \n",
       "96               0                      0                       0   \n",
       "...            ...                    ...                     ...   \n",
       "88281            0                      0                       0   \n",
       "35162            0                      0                       0   \n",
       "47062            0                      0                       0   \n",
       "83692            0                      0                       0   \n",
       "87448            0                      0                       0   \n",
       "\n",
       "              yellow card  Red Card  Ball  Stadium View  referee Image  \\\n",
       "Image Number                                                             \n",
       "1                       0         0     0             1              0   \n",
       "2                       0         0     0             1              1   \n",
       "94                      1         0     1             0              1   \n",
       "95                      1         0     1             0              1   \n",
       "96                      1         0     1             0              1   \n",
       "...                   ...       ...   ...           ...            ...   \n",
       "88281                   0         0     1             0              1   \n",
       "35162                   0         0     1             0              1   \n",
       "47062                   0         0     0             0              0   \n",
       "83692                   0         0     0             0              0   \n",
       "87448                   0         0     0             0              0   \n",
       "\n",
       "              Penalty Image  Free Kick  Generic Moment  \n",
       "Image Number                                            \n",
       "1                         0          0               0  \n",
       "2                         0          0               0  \n",
       "94                        0          0               0  \n",
       "95                        0          0               0  \n",
       "96                        0          0               0  \n",
       "...                     ...        ...             ...  \n",
       "88281                     0          0               1  \n",
       "35162                     0          0               1  \n",
       "47062                     0          0               1  \n",
       "83692                     0          0               1  \n",
       "87448                     0          0               1  \n",
       "\n",
       "[10000 rows x 11 columns]"
      ]
     },
     "execution_count": 4,
     "metadata": {},
     "output_type": "execute_result"
    }
   ],
   "source": [
    "labels_df"
   ]
  },
  {
   "cell_type": "code",
   "execution_count": 5,
   "id": "41952dc2",
   "metadata": {},
   "outputs": [],
   "source": [
    "#labels_df.index.to_list()"
   ]
  },
  {
   "cell_type": "code",
   "execution_count": 6,
   "id": "eee67e32",
   "metadata": {},
   "outputs": [
    {
     "data": {
      "text/plain": [
       "Index(['Gate', 'Start/Restar the game', 'The joy of the players',\n",
       "       'yellow card', 'Red Card', 'Ball', 'Stadium View', 'referee Image',\n",
       "       'Penalty Image', 'Free Kick', 'Generic Moment'],\n",
       "      dtype='object')"
      ]
     },
     "execution_count": 6,
     "metadata": {},
     "output_type": "execute_result"
    }
   ],
   "source": [
    "labels_df.columns"
   ]
  },
  {
   "cell_type": "code",
   "execution_count": 7,
   "id": "965bbc5e",
   "metadata": {},
   "outputs": [],
   "source": [
    "clues_df = pd.DataFrame({'img_id': labels_df.index.to_list(),\n",
    "                         'Gate': labels_df['Gate'].to_list(),\n",
    "                         'Ball':labels_df['Ball'].to_list(),\n",
    "                         'Referee':pd.to_numeric(labels_df['referee Image'].astype(str).str.strip(), errors='coerce').fillna(0).astype(int).to_list(),\n",
    "                         'Red_Card':labels_df['Red Card'].to_list(),\n",
    "                         'Yellow_Card':labels_df['yellow card'].to_list()}\n",
    "                         )\n",
    "clues_df.set_index(clues_df.columns[0], inplace=True)"
   ]
  },
  {
   "cell_type": "code",
   "execution_count": 8,
   "id": "0f4af281",
   "metadata": {},
   "outputs": [
    {
     "data": {
      "text/html": [
       "<div>\n",
       "<style scoped>\n",
       "    .dataframe tbody tr th:only-of-type {\n",
       "        vertical-align: middle;\n",
       "    }\n",
       "\n",
       "    .dataframe tbody tr th {\n",
       "        vertical-align: top;\n",
       "    }\n",
       "\n",
       "    .dataframe thead th {\n",
       "        text-align: right;\n",
       "    }\n",
       "</style>\n",
       "<table border=\"1\" class=\"dataframe\">\n",
       "  <thead>\n",
       "    <tr style=\"text-align: right;\">\n",
       "      <th></th>\n",
       "      <th>Gate</th>\n",
       "      <th>Ball</th>\n",
       "      <th>Referee</th>\n",
       "      <th>Red_Card</th>\n",
       "      <th>Yellow_Card</th>\n",
       "    </tr>\n",
       "    <tr>\n",
       "      <th>img_id</th>\n",
       "      <th></th>\n",
       "      <th></th>\n",
       "      <th></th>\n",
       "      <th></th>\n",
       "      <th></th>\n",
       "    </tr>\n",
       "  </thead>\n",
       "  <tbody>\n",
       "    <tr>\n",
       "      <th>1</th>\n",
       "      <td>0</td>\n",
       "      <td>0</td>\n",
       "      <td>0</td>\n",
       "      <td>0</td>\n",
       "      <td>0</td>\n",
       "    </tr>\n",
       "    <tr>\n",
       "      <th>2</th>\n",
       "      <td>0</td>\n",
       "      <td>0</td>\n",
       "      <td>1</td>\n",
       "      <td>0</td>\n",
       "      <td>0</td>\n",
       "    </tr>\n",
       "    <tr>\n",
       "      <th>94</th>\n",
       "      <td>0</td>\n",
       "      <td>1</td>\n",
       "      <td>1</td>\n",
       "      <td>0</td>\n",
       "      <td>1</td>\n",
       "    </tr>\n",
       "    <tr>\n",
       "      <th>95</th>\n",
       "      <td>0</td>\n",
       "      <td>1</td>\n",
       "      <td>1</td>\n",
       "      <td>0</td>\n",
       "      <td>1</td>\n",
       "    </tr>\n",
       "    <tr>\n",
       "      <th>96</th>\n",
       "      <td>0</td>\n",
       "      <td>1</td>\n",
       "      <td>1</td>\n",
       "      <td>0</td>\n",
       "      <td>1</td>\n",
       "    </tr>\n",
       "  </tbody>\n",
       "</table>\n",
       "</div>"
      ],
      "text/plain": [
       "        Gate  Ball  Referee  Red_Card  Yellow_Card\n",
       "img_id                                            \n",
       "1          0     0        0         0            0\n",
       "2          0     0        1         0            0\n",
       "94         0     1        1         0            1\n",
       "95         0     1        1         0            1\n",
       "96         0     1        1         0            1"
      ]
     },
     "execution_count": 8,
     "metadata": {},
     "output_type": "execute_result"
    }
   ],
   "source": [
    "clues_df.head()"
   ]
  },
  {
   "cell_type": "markdown",
   "id": "4d2e3de9",
   "metadata": {},
   "source": [
    "These are binary indicators telling you if the object/clue is present in the image. For now we don’t have the location (bounding boxes) of the objects in the image, but presence is already informative."
   ]
  },
  {
   "cell_type": "markdown",
   "id": "539a7fed",
   "metadata": {},
   "source": [
    "check if there are some images in the dataset which do not contain any of the clues:"
   ]
  },
  {
   "cell_type": "code",
   "execution_count": 9,
   "id": "9abda8e9",
   "metadata": {},
   "outputs": [
    {
     "name": "stdout",
     "output_type": "stream",
     "text": [
      "        Gate  Ball  Referee  Red_Card  Yellow_Card\n",
      "img_id                                            \n",
      "1          0     0        0         0            0\n",
      "1927       0     0        0         0            0\n",
      "1928       0     0        0         0            0\n",
      "1929       0     0        0         0            0\n",
      "1930       0     0        0         0            0\n",
      "There are 3236 that do not contain any clue\n"
     ]
    }
   ],
   "source": [
    "no_clue_images = clues_df[(clues_df == 0).all(axis=1)]\n",
    "print(no_clue_images.head())\n",
    "print(f\"There are {len(no_clue_images)} that do not contain any clue\")"
   ]
  },
  {
   "cell_type": "markdown",
   "id": "3e337fcc",
   "metadata": {},
   "source": [
    "We still have 6764 images containing at least one clue"
   ]
  },
  {
   "cell_type": "code",
   "execution_count": 10,
   "id": "e702d03e",
   "metadata": {},
   "outputs": [],
   "source": [
    "for x in clues_df.T.columns:\n",
    "    if clues_df.T[x].sum() == 5:\n",
    "        print(x)"
   ]
  },
  {
   "cell_type": "code",
   "execution_count": 11,
   "id": "cd87f549",
   "metadata": {},
   "outputs": [
    {
     "data": {
      "image/png": "[encoded data removed]",
      "text/plain": [
       "<Figure size 800x400 with 1 Axes>"
      ]
     },
     "metadata": {},
     "output_type": "display_data"
    }
   ],
   "source": [
    "clue_counts = clues_df.sum(axis=1)\n",
    "\n",
    "# Count how many images have 0, 1, 2, ..., n clues\n",
    "clue_count_distr = clue_counts.value_counts().sort_index()\n",
    "\n",
    "# Plot\n",
    "plt.figure(figsize=(8, 4))\n",
    "clue_count_distr.plot(kind='bar', color='purple')\n",
    "plt.title(\"Number of Clues per Image\")\n",
    "plt.xlabel(\"Number of Clues in Image\")\n",
    "plt.ylabel(\"Number of Images\")\n",
    "plt.grid(axis='y', linestyle='--', alpha=0.7)\n",
    "plt.xticks(rotation=0)\n",
    "plt.tight_layout()\n",
    "plt.show()"
   ]
  },
  {
   "cell_type": "markdown",
   "id": "f0a6ad7c",
   "metadata": {},
   "source": [
    "However, we can still consider images without any clue (i.e., all zeros) as valid. They might represent neutral moments (e.g., mid-field play) or scenes without distinctive objects.\n",
    "\n",
    "If the architecture concatenates a clue vector (e.g., [Gate, Ball, Referee, ...]) to image features, an all-zero vector is just one possible input — no problem. We keep in mind that the model might learn that a vector of all 0s corresponds to certain classes (e.g., “generic moment”), which may or may not be desirable.\n",
    "\n",
    "- Mask Augmentation:\n",
    "    In the case we feed binary masks (e.g., ball mask, gate mask) as additional input channels, an image with no clues will have empty mask channels.\n",
    "    This is fine, in order to let the model learn that “absence of signal” is also a signal.\n",
    "\n",
    "\n",
    "- Training Bias:\n",
    "    Of course, if very few images have clues, the model may ignore them. In the same way, if most of them have clues, the model may depend on them too heavily and fail to generalize."
   ]
  },
  {
   "cell_type": "code",
   "execution_count": 12,
   "id": "a6a55600",
   "metadata": {},
   "outputs": [
    {
     "name": "stdout",
     "output_type": "stream",
     "text": [
      "Clue Gate appears 4150 times\n",
      "Clue Ball appears 4220 times\n",
      "Clue Referee appears 3254 times\n",
      "Clue Red_Card appears 70 times\n",
      "Clue Yellow_Card appears 586 times\n"
     ]
    }
   ],
   "source": [
    "for x in clues_df.columns:\n",
    "    print(f'Clue {x} appears {clues_df[x].sum()} times')"
   ]
  },
  {
   "cell_type": "code",
   "execution_count": 13,
   "id": "bceeed4a",
   "metadata": {},
   "outputs": [
    {
     "data": {
      "image/png": "[encoded data removed]",
      "text/plain": [
       "<Figure size 600x400 with 1 Axes>"
      ]
     },
     "metadata": {},
     "output_type": "display_data"
    }
   ],
   "source": [
    "clue_fractions = (clues_df > 0).sum() / clues_df.shape[0]\n",
    "\n",
    "# Plot\n",
    "plt.figure(figsize=(6, 4))\n",
    "clue_fractions.sort_values(ascending=False).plot(kind='bar', color='skyblue')\n",
    "plt.title(\"Fraction of Images Containing Each Clue\")\n",
    "plt.ylabel(\"Fraction\")\n",
    "plt.ylim(0, 0.5)\n",
    "plt.xticks(rotation=45)\n",
    "plt.grid(axis='y', linestyle='--', alpha=0.7)\n",
    "plt.tight_layout()\n",
    "plt.show()"
   ]
  },
  {
   "cell_type": "markdown",
   "id": "45f595a3",
   "metadata": {},
   "source": [
    "- Weight on rare clues:\n",
    "    - rare clues like red card can be highly discriminative (e.g., if a red card is present, the scene probably relates to a sending-off event).\n",
    "    - Due to scarcity, they should not dominate the model loss\n",
    "    - they shouldn’t be dropped, either\n",
    "\n",
    "- Keep them in the clue vector — let the classifier learn their informativeness\n",
    "- Also, even though red_card and yellow_card are hardly co-occurring, it is better not to merge them in a new label 'Card_Presence' to allow the model to learn their difference (?????)"
   ]
  },
  {
   "cell_type": "markdown",
   "id": "3605f495",
   "metadata": {},
   "source": [
    "(In MLP classifier, use dropout + batch norm to prevent overfitting to rare clues)?\n",
    "\n",
    "You could apply manual weighting only if you observe the model ignoring rare clues during ablation"
   ]
  },
  {
   "cell_type": "markdown",
   "id": "b4de137f",
   "metadata": {},
   "source": [
    " already have weak labels for object presence at the image level, which makes your task a weakly supervised feature enrichment problem rather than pure object detection."
   ]
  },
  {
   "cell_type": "markdown",
   "id": "20cd0a2c",
   "metadata": {},
   "source": [
    "## Problem"
   ]
  },
  {
   "cell_type": "markdown",
   "id": "8739900e",
   "metadata": {},
   "source": [
    "in the 10,000 image dataset, many images contain some clues, but the corresponding indicator in the *clues_df* is set to 0.\n",
    "\n",
    "- A. Do object detection on the images that have the wrong label\n",
    "- B. "
   ]
  },
  {
   "cell_type": "markdown",
   "id": "7e114c38",
   "metadata": {},
   "source": []
  },
  {
   "cell_type": "markdown",
   "id": "938a6b5b",
   "metadata": {},
   "source": []
  },
  {
   "cell_type": "markdown",
   "id": "4bc8b253",
   "metadata": {},
   "source": []
  },
  {
   "cell_type": "markdown",
   "id": "7ce8622e",
   "metadata": {},
   "source": [
    "### Feature Vectors"
   ]
  },
  {
   "cell_type": "markdown",
   "id": "178eb4e9",
   "metadata": {},
   "source": [
    "A. Can convert each row into a feature vector of clues, which will later be fed into the classification model as additional **feature input**.\n",
    "\n",
    "The images go into the CNN --> the clue vector goes into the MLP. So will concatenate CNN embedding + clue vector and feed it into the final classifier (MLP + softmax for the mutually exclusive match events).\n",
    "\n",
    "Feed one at a time, then all of them together???"
   ]
  },
  {
   "cell_type": "code",
   "execution_count": 19,
   "id": "f9765158",
   "metadata": {},
   "outputs": [
    {
     "data": {
      "text/plain": [
       "10000"
      ]
     },
     "execution_count": 19,
     "metadata": {},
     "output_type": "execute_result"
    }
   ],
   "source": [
    "ball_df = pd.DataFrame({'img_id': labels_df.index.to_list(),\n",
    "                         'Ball': labels_df['Ball'].to_list()}\n",
    "                         )\n",
    "ball_df.set_index(ball_df.columns[0], inplace=True)\n",
    "ball_df.head(5)\n",
    "len(ball_df)"
   ]
  },
  {
   "cell_type": "code",
   "execution_count": 8,
   "id": "7f481afc",
   "metadata": {},
   "outputs": [],
   "source": [
    "## gate_df\n",
    "gate_df = pd.DataFrame({'img_id': labels_df.index.to_list(),\n",
    "                         'Gate': labels_df['Gate'].to_list()}\n",
    "                         )\n",
    "gate_df.set_index(gate_df.columns[0], inplace=True)\n",
    "\n",
    "# red_card\n",
    "r_card_df = pd.DataFrame({'img_id': labels_df.index.to_list(),\n",
    "                         'Red_Card': labels_df['Red_Card'].to_list()}\n",
    "                         )\n",
    "r_card_df.set_index(r_card_df.columns[0], inplace=True)\n",
    "\n",
    "# yellow_card\n",
    "y_card_df = pd.DataFrame({'img_id': labels_df.index.to_list(),\n",
    "                         'Yellow_Card': labels_df['Yellow_Card'].to_list()}\n",
    "                         )\n",
    "y_card_df.set_index(y_card_df.columns[0], inplace=True)\n",
    "\n",
    "referee_df = pd.DataFrame({'img_id': labels_df.index.to_list(),\n",
    "                         'Referee': labels_df['Referee'].to_list()}\n",
    "                         )\n",
    "referee_df.set_index(referee_df.columns[0], inplace=True)"
   ]
  },
  {
   "cell_type": "markdown",
   "id": "02d08e74",
   "metadata": {},
   "source": [
    "Designing a localization-aware signal for important objects like the ball (with **no ground-truth coordinates**)"
   ]
  }
 ],
 "metadata": {
  "kernelspec": {
   "display_name": "envallen",
   "language": "python",
   "name": "python3"
  },
  "language_info": {
   "codemirror_mode": {
    "name": "ipython",
    "version": 3
   },
   "file_extension": ".py",
   "mimetype": "text/x-python",
   "name": "python",
   "nbconvert_exporter": "python",
   "pygments_lexer": "ipython3",
   "version": "3.11.7"
  }
 },
 "nbformat": 4,
 "nbformat_minor": 5
}
