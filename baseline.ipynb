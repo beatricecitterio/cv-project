{
 "cells": [
  {
   "cell_type": "markdown",
   "metadata": {},
   "source": [
    "## Baseline model \n",
    "\n",
    "As a baseline model we will use ResNet 18, first with its pre-trained weights"
   ]
  },
  {
   "cell_type": "markdown",
   "metadata": {},
   "source": [
    "---\n",
    "\n",
    "# Adapted\n",
    "\n",
    "Source: https://www.pluralsight.com/resources/blog/guides/introduction-to-resnet"
   ]
  },
  {
   "cell_type": "code",
   "execution_count": 1,
   "metadata": {},
   "outputs": [],
   "source": [
    "import torch\n",
    "import torch.nn as nn\n",
    "import torch.optim as optim\n",
    "import numpy as np\n",
    "from torchvision import models, transforms\n",
    "from torch.utils.data import Dataset, DataLoader\n",
    "from PIL import Image\n",
    "import pandas as pd\n",
    "import os\n",
    "import matplotlib.pyplot as plt\n",
    "from sklearn.model_selection import train_test_split"
   ]
  },
  {
   "cell_type": "markdown",
   "metadata": {},
   "source": [
    "## Data preprocessing"
   ]
  },
  {
   "cell_type": "code",
   "execution_count": 2,
   "metadata": {},
   "outputs": [],
   "source": [
    "labels = pd.read_csv('selected_labels.csv')\n",
    "labels = labels.drop(columns=['Ball', 'Gate', 'referee Image'])\n"
   ]
  },
  {
   "cell_type": "code",
   "execution_count": 3,
   "metadata": {},
   "outputs": [],
   "source": [
    "LABELS = [\n",
    "    'Start/Restar the game',\n",
    "    'The joy of the players',\n",
    "    'yellow card',\n",
    "    'Red Card',\n",
    "    'Stadium View',\n",
    "    'Penalty Image',\n",
    "    'Free Kick',\n",
    "    'Generic Moment'\n",
    "]"
   ]
  },
  {
   "cell_type": "code",
   "execution_count": 4,
   "metadata": {},
   "outputs": [
    {
     "data": {
      "text/plain": [
       "{'Start/Restar the game': 0,\n",
       " 'The joy of the players': 1,\n",
       " 'yellow card': 2,\n",
       " 'Red Card': 3,\n",
       " 'Stadium View': 4,\n",
       " 'Penalty Image': 5,\n",
       " 'Free Kick': 6,\n",
       " 'Generic Moment': 7}"
      ]
     },
     "execution_count": 4,
     "metadata": {},
     "output_type": "execute_result"
    }
   ],
   "source": [
    "# visualize the mapping from label names to indices\n",
    "label_to_index = {label: idx for idx, label in enumerate(LABELS)}\n",
    "label_to_index"
   ]
  },
  {
   "cell_type": "code",
   "execution_count": 5,
   "metadata": {},
   "outputs": [],
   "source": [
    "labels['label'] = labels[LABELS].idxmax(axis=1).map({label: idx for idx, label in enumerate(LABELS)})\n",
    "labels['label'] = labels['label'].astype(int)\n"
   ]
  },
  {
   "cell_type": "code",
   "execution_count": 6,
   "metadata": {},
   "outputs": [
    {
     "data": {
      "text/plain": [
       "label\n",
       "4    3209\n",
       "6    2020\n",
       "7    2009\n",
       "1    1329\n",
       "2     586\n",
       "5     452\n",
       "0     325\n",
       "3      70\n",
       "Name: count, dtype: int64"
      ]
     },
     "execution_count": 6,
     "metadata": {},
     "output_type": "execute_result"
    }
   ],
   "source": [
    "labels['label'].value_counts()"
   ]
  },
  {
   "cell_type": "code",
   "execution_count": 7,
   "metadata": {},
   "outputs": [],
   "source": [
    "labels = labels.drop(columns=LABELS)"
   ]
  },
  {
   "cell_type": "code",
   "execution_count": 8,
   "metadata": {},
   "outputs": [],
   "source": [
    "# ==== Config ====\n",
    "batch_size = 32\n",
    "learning_rate = 1e-3\n",
    "num_epochs = 10\n",
    "device = torch.device('cuda:0' if torch.cuda.is_available() else 'cpu')\n",
    "\n"
   ]
  },
  {
   "cell_type": "code",
   "execution_count": 9,
   "metadata": {},
   "outputs": [],
   "source": [
    "# ==== Custom Dataset ====\n",
    "class MatchDataset(Dataset):\n",
    "    def __init__(self, df, image_folder, transform=None):\n",
    "        self.df = df\n",
    "        self.image_folder = image_folder\n",
    "        self.transform = transform\n",
    "\n",
    "    def __len__(self):\n",
    "        return len(self.df)\n",
    "\n",
    "    def __getitem__(self, idx):\n",
    "        row = self.df.iloc[idx]\n",
    "        img_path = os.path.join(self.image_folder, str(row['Image Number']) + '.jpg')\n",
    "        image = Image.open(img_path).convert('RGB')\n",
    "        label = row['label']\n",
    "\n",
    "        if self.transform:\n",
    "            image = self.transform(image)\n",
    "        return image, label\n"
   ]
  },
  {
   "cell_type": "code",
   "execution_count": 10,
   "metadata": {},
   "outputs": [],
   "source": [
    "# ==== Transforms ====\n",
    "transform = transforms.Compose([\n",
    "    transforms.Resize((224, 224)),\n",
    "    transforms.ToTensor(),\n",
    "    transforms.Normalize([0.485, 0.456, 0.406], \n",
    "                         [0.229, 0.224, 0.225])\n",
    "])\n",
    "\n",
    "# ==== Load Data ====\n",
    "image_path = 'data/selected_images'\n",
    "dataset = MatchDataset(labels, image_path, transform)\n",
    "\n",
    "train_dataset, val_dataset = train_test_split(dataset, test_size=0.2, random_state=42)\n",
    "\n",
    "train_loader = DataLoader(train_dataset, batch_size=batch_size, shuffle=True)\n",
    "val_loader = DataLoader(val_dataset, batch_size=batch_size)\n"
   ]
  },
  {
   "cell_type": "code",
   "execution_count": 11,
   "metadata": {},
   "outputs": [
    {
     "name": "stderr",
     "output_type": "stream",
     "text": [
      "/opt/anaconda3/lib/python3.12/site-packages/torchvision/models/_utils.py:208: UserWarning: The parameter 'pretrained' is deprecated since 0.13 and may be removed in the future, please use 'weights' instead.\n",
      "  warnings.warn(\n",
      "/opt/anaconda3/lib/python3.12/site-packages/torchvision/models/_utils.py:223: UserWarning: Arguments other than a weight enum or `None` for 'weights' are deprecated since 0.13 and may be removed in the future. The current behavior is equivalent to passing `weights=ResNet18_Weights.IMAGENET1K_V1`. You can also use `weights=ResNet18_Weights.DEFAULT` to get the most up-to-date weights.\n",
      "  warnings.warn(msg)\n",
      "Downloading: \"https://download.pytorch.org/models/resnet18-f37072fd.pth\" to /Users/martinaserandrei/.cache/torch/hub/checkpoints/resnet18-f37072fd.pth\n",
      "100%|██████████| 44.7M/44.7M [00:05<00:00, 7.94MB/s]\n"
     ]
    }
   ],
   "source": [
    "# ==== Model ====\n",
    "model = models.resnet18(pretrained=True)\n",
    "model.fc = nn.Linear(model.fc.in_features, len(LABELS))\n",
    "model = model.to(device)\n",
    "\n",
    "criterion = nn.CrossEntropyLoss()\n",
    "optimizer = optim.Adam(model.parameters(), lr=learning_rate)\n"
   ]
  },
  {
   "cell_type": "code",
   "execution_count": 12,
   "metadata": {},
   "outputs": [
    {
     "name": "stdout",
     "output_type": "stream",
     "text": [
      "[1/10] Train Loss: 0.8317, Acc: 71.49%, Val Loss: 0.7975, Acc: 74.85%\n",
      "✅ Saved new best model.\n",
      "[2/10] Train Loss: 0.5596, Acc: 80.34%, Val Loss: 0.6516, Acc: 78.10%\n",
      "✅ Saved new best model.\n",
      "[3/10] Train Loss: 0.4334, Acc: 85.12%, Val Loss: 0.5361, Acc: 80.50%\n",
      "✅ Saved new best model.\n",
      "[4/10] Train Loss: 0.3477, Acc: 87.89%, Val Loss: 0.5717, Acc: 80.80%\n",
      "[5/10] Train Loss: 0.2849, Acc: 90.22%, Val Loss: 0.8028, Acc: 75.80%\n",
      "[6/10] Train Loss: 0.2394, Acc: 91.86%, Val Loss: 0.5891, Acc: 81.50%\n",
      "[7/10] Train Loss: 0.1684, Acc: 94.20%, Val Loss: 0.5633, Acc: 84.95%\n",
      "[8/10] Train Loss: 0.1533, Acc: 94.56%, Val Loss: 0.6444, Acc: 82.60%\n",
      "[9/10] Train Loss: 0.1253, Acc: 95.89%, Val Loss: 0.6416, Acc: 82.80%\n",
      "[10/10] Train Loss: 0.0928, Acc: 96.91%, Val Loss: 0.6527, Acc: 83.65%\n",
      "Training complete.\n"
     ]
    }
   ],
   "source": [
    "# ==== Training Loop ====\n",
    "train_acc, val_acc, train_loss, val_loss = [], [], [], []\n",
    "best_val_loss = float('inf')\n",
    "\n",
    "for epoch in range(num_epochs):\n",
    "    model.train()\n",
    "    running_loss = 0.0\n",
    "    correct, total = 0, 0\n",
    "\n",
    "    for images, labels in train_loader:\n",
    "        images, labels = images.to(device), labels.to(device)\n",
    "\n",
    "        optimizer.zero_grad()\n",
    "        outputs = model(images)\n",
    "        loss = criterion(outputs, labels)\n",
    "        loss.backward()\n",
    "        optimizer.step()\n",
    "\n",
    "        running_loss += loss.item()\n",
    "        _, preds = torch.max(outputs, 1)\n",
    "        correct += (preds == labels).sum().item()\n",
    "        total += labels.size(0)\n",
    "\n",
    "    epoch_loss = running_loss / len(train_loader)\n",
    "    epoch_acc = correct / total * 100\n",
    "    train_loss.append(epoch_loss)\n",
    "    train_acc.append(epoch_acc)\n",
    "\n",
    "    # Validation\n",
    "    model.eval()\n",
    "    val_running_loss = 0.0\n",
    "    val_correct, val_total = 0, 0\n",
    "\n",
    "    with torch.no_grad():\n",
    "        for images, labels in val_loader:\n",
    "            images, labels = images.to(device), labels.to(device)\n",
    "            outputs = model(images)\n",
    "            loss = criterion(outputs, labels)\n",
    "\n",
    "            val_running_loss += loss.item()\n",
    "            _, preds = torch.max(outputs, 1)\n",
    "            val_correct += (preds == labels).sum().item()\n",
    "            val_total += labels.size(0)\n",
    "\n",
    "    val_epoch_loss = val_running_loss / len(val_loader)\n",
    "    val_epoch_acc = val_correct / val_total * 100\n",
    "    val_loss.append(val_epoch_loss)\n",
    "    val_acc.append(val_epoch_acc)\n",
    "\n",
    "    print(f\"[{epoch+1}/{num_epochs}] Train Loss: {epoch_loss:.4f}, Acc: {epoch_acc:.2f}%, Val Loss: {val_epoch_loss:.4f}, Acc: {val_epoch_acc:.2f}%\")\n",
    "\n",
    "    if val_epoch_loss < best_val_loss:\n",
    "        best_val_loss = val_epoch_loss\n",
    "        torch.save(model.state_dict(), 'resnet18_football_best.pth')\n",
    "        print(\"✅ Saved new best model.\")\n",
    "\n",
    "print(\"Training complete.\")"
   ]
  },
  {
   "cell_type": "code",
   "execution_count": 13,
   "metadata": {},
   "outputs": [
    {
     "data": {
      "image/png": "[encoded data removed]",
      "text/plain": [
       "<Figure size 1200x500 with 1 Axes>"
      ]
     },
     "metadata": {},
     "output_type": "display_data"
    }
   ],
   "source": [
    "# ==== Accuracy Plot ====\n",
    "plt.figure(figsize=(12, 5))\n",
    "plt.plot(train_acc, label='Train Accuracy')\n",
    "plt.plot(val_acc, label='Validation Accuracy')\n",
    "plt.xlabel('Epoch')\n",
    "plt.ylabel('Accuracy (%)')\n",
    "plt.legend()\n",
    "plt.grid()\n",
    "plt.title(\"Training vs Validation Accuracy\")\n",
    "plt.show()"
   ]
  },
  {
   "cell_type": "markdown",
   "metadata": {},
   "source": [
    "vedere CNN su drive di lomurno e vedere aree delle immagini che si attivano quando fa inference "
   ]
  }
 ],
 "metadata": {
  "kernelspec": {
   "display_name": "base",
   "language": "python",
   "name": "python3"
  },
  "language_info": {
   "codemirror_mode": {
    "name": "ipython",
    "version": 3
   },
   "file_extension": ".py",
   "mimetype": "text/x-python",
   "name": "python",
   "nbconvert_exporter": "python",
   "pygments_lexer": "ipython3",
   "version": "3.12.4"
  }
 },
 "nbformat": 4,
 "nbformat_minor": 2
}
